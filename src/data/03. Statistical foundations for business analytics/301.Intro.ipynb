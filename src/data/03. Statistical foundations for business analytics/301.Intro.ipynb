{
 "cells": [
  {
   "attachments": {},
   "cell_type": "markdown",
   "metadata": {},
   "source": [
    "intro friday\n",
    "Statiscal foundations saturdat\n",
    "Linear moidels, regression and classification friday and saturday\n",
    "Probabilistic models friday\n",
    "Forecasting saturday"
   ]
  },
  {
   "attachments": {},
   "cell_type": "markdown",
   "metadata": {},
   "source": [
    "### 1.1. What's statistical learning?\n",
    "Statistical learning refers to a vast set of tools for understanding data. These tools can be classified as supervised or unsupervised. \n",
    "- **Supervised statistical learning,** involves building a statistical model for predicting, or estimating, an output based on one or more inputs. \n",
    "Supervised statistical learning is a technique in which a model is trained using a labeled dataset. In this approach, the learning algorithm is provided with a set of features (independent variables) and their corresponding labels or desired responses (dependent variable). The goal is for the model to learn the relationship between the features and labels in order to make accurate predictions or classifications on new data.\n",
    "Common supervised algorithms include linear regression, logistic regression, decision trees, random forests, support vector machines (SVM), and neural networks. These algorithms are used to predict a continuous variable (regression) or classify a categorical variable (classification).\n",
    "\n",
    "- **Unsupervised statistical learning,** there are inputs but no supervising output; nevertheless we can learn relationships and structure from such data. \n",
    "Unsupervised statistical learning is an approach in which a model is trained using an unlabeled or unannotated dataset. Here, the primary goal is to discover patterns, hidden structures, or clusters within the data without prior information about categories or labels.\n",
    "Unsupervised learning algorithms are used for tasks such as clustering, dimensionality reduction, and anomaly detection. Examples of unsupervised algorithms include k-means algorithm, principal component analysis (PCA), autoencoders in neural networks, and density-based anomaly detection algorithm (DBSCAN).\n",
    "\n",
    "In summary, supervised statistical learning relies on labeled data to train predictive models or classifiers, while unsupervised statistical learning aims to uncover patterns and structures in unlabeled data without prior information about categories or labels. Both approaches are fundamental in the field of data science and are used to solve a wide variety of problems and tasks."
   ]
  }
 ],
 "metadata": {
  "language_info": {
   "name": "python"
  },
  "orig_nbformat": 4
 },
 "nbformat": 4,
 "nbformat_minor": 2
}
