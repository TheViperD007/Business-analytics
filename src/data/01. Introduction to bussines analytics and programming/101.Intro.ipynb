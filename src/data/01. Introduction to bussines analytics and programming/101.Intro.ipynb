{
 "cells": [
  {
   "attachments": {},
   "cell_type": "markdown",
   "metadata": {},
   "source": [
    "### I. Introduction to Business analytics and programming fundamentals.\n",
    "    (Este curso busca introducir el Business Analytics para gestionar efectivamente los procesos de colecta, almacenamiento y procesamiento de grandes volúmenes de datos presentes en procesos de Transformación Digital y Business Intelligence.)\n",
    "\n",
    "    - #### 1.1. Primera parte\n",
    "        (Aquí va el párrafo correspondiente a la primera parte del curso.)\n"
   ]
  },
  {
   "attachments": {},
   "cell_type": "markdown",
   "metadata": {},
   "source": [
    "## 1.1. Introduction to business analytics\n",
    "##  1.2. Algorithms and programming structures\n",
    "##  1.3. Introduction to programming languages\n",
    "### Semana 1: 21 y 22 de Octubre.  Semana 2: 4 y 5 de Noviembre.  Semana 3: 18 y 19 de Noviembre."
   ]
  },
  {
   "cell_type": "code",
   "execution_count": null,
   "metadata": {},
   "outputs": [],
   "source": [
    "# I."
   ]
  }
 ],
 "metadata": {
  "language_info": {
   "name": "python"
  },
  "orig_nbformat": 4
 },
 "nbformat": 4,
 "nbformat_minor": 2
}
